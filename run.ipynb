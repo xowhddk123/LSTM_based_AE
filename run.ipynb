{
 "cells": [
  {
   "cell_type": "code",
   "execution_count": 1,
   "metadata": {},
   "outputs": [],
   "source": [
    "%load_ext autoreload\n",
    "%autoreload 2"
   ]
  },
  {
   "cell_type": "code",
   "execution_count": 2,
   "metadata": {},
   "outputs": [],
   "source": [
    "from config import *\n",
    "from dataset import *\n",
    "from model import *\n",
    "from train import *\n",
    "from anomaly_score import *\n",
    "from evaluate import *\n",
    "\n",
    "import pandas as pd\n",
    "import numpy as np\n",
    "import matplotlib.pyplot as plt\n",
    "import seaborn as sns\n",
    "\n",
    "from torch.utils.data import DataLoader"
   ]
  },
  {
   "cell_type": "markdown",
   "metadata": {},
   "source": [
    "# DATA"
   ]
  },
  {
   "cell_type": "markdown",
   "metadata": {},
   "source": [
    "## Load Data"
   ]
  },
  {
   "cell_type": "code",
   "execution_count": 17,
   "metadata": {},
   "outputs": [],
   "source": [
    "# 데이터 불러 오기\n",
    "\n",
    "data_path = \"data/ptbdb_normal.csv\"\n",
    "data = pd.read_csv(data_path, names=[f\"sensor{i}\" for i in range(188)]).iloc[:, :16]\n",
    "\n",
    "split_size01 = int(data.shape[0] * 0.6)  # data split size\n",
    "split_size02 = int(data.shape[0] * 0.9)  # data split size\n",
    "\n",
    "# train:valid - 7:3\n",
    "train = data[:split_size01]\n",
    "valid = data[split_size01:split_size02]\n",
    "threshold_normal = data[split_size02:]\n",
    "\n",
    "# abnormal data\n",
    "data_path = \"data/ptbdb_abnormal.csv\"\n",
    "data = pd.read_csv(data_path, names=[f\"sensor{i}\" for i in range(188)]).iloc[:, :16]\n",
    "\n",
    "split_size = int(data.shape[0] * 0.3)  # data split size\n",
    "\n",
    "# train:valid - 7:3\n",
    "threshold_abnormal = data[:split_size]\n",
    "test = data[split_size:]"
   ]
  },
  {
   "cell_type": "code",
   "execution_count": 4,
   "metadata": {},
   "outputs": [],
   "source": [
    "config = Config().config  # load config"
   ]
  },
  {
   "cell_type": "markdown",
   "metadata": {},
   "source": [
    "## Dataset"
   ]
  },
  {
   "cell_type": "code",
   "execution_count": 18,
   "metadata": {},
   "outputs": [
    {
     "name": "stdout",
     "output_type": "stream",
     "text": [
      "정규화 완료\n",
      "정규화 완료\n",
      "정규화 완료\n",
      "정규화 완료\n",
      "정규화 완료\n"
     ]
    }
   ],
   "source": [
    "train_dataset = AD_Dataset(data=train.values, config=config)\n",
    "valid_dataset = AD_Dataset(data=valid.values, config=config)\n",
    "threshold_normal_dataset = AD_Dataset(data=threshold_normal.values, config=config)\n",
    "\n",
    "threshold_abnormal_dataset = AD_Dataset(data=threshold_abnormal.values, config=config)\n",
    "test_dataset = AD_Dataset(data=test.values, config=config)"
   ]
  },
  {
   "cell_type": "markdown",
   "metadata": {},
   "source": [
    "# MODEL"
   ]
  },
  {
   "cell_type": "code",
   "execution_count": 6,
   "metadata": {},
   "outputs": [],
   "source": [
    "# model\n",
    "model = LSTMAutoEncoder(config=config)"
   ]
  },
  {
   "cell_type": "markdown",
   "metadata": {},
   "source": [
    "# TRAIN"
   ]
  },
  {
   "cell_type": "code",
   "execution_count": 7,
   "metadata": {},
   "outputs": [
    {
     "name": "stderr",
     "output_type": "stream",
     "text": [
      " 10%|█         | 1/10 [00:01<00:16,  1.80s/it]"
     ]
    },
    {
     "name": "stdout",
     "output_type": "stream",
     "text": [
      "save model\n",
      "epoch : 1, train_loss : 0.5740692019462585, valid_loss : 0.9876536726951599\n"
     ]
    },
    {
     "name": "stderr",
     "output_type": "stream",
     "text": [
      " 20%|██        | 2/10 [00:03<00:14,  1.83s/it]"
     ]
    },
    {
     "name": "stdout",
     "output_type": "stream",
     "text": [
      "save model\n",
      "epoch : 2, train_loss : 0.42822977900505066, valid_loss : 0.9183894395828247\n"
     ]
    },
    {
     "name": "stderr",
     "output_type": "stream",
     "text": [
      " 30%|███       | 3/10 [00:05<00:12,  1.79s/it]"
     ]
    },
    {
     "name": "stdout",
     "output_type": "stream",
     "text": [
      "epoch : 3, train_loss : 0.39950976769129437, valid_loss : 0.9502300024032593\n"
     ]
    },
    {
     "name": "stderr",
     "output_type": "stream",
     "text": [
      " 40%|████      | 4/10 [00:06<00:09,  1.59s/it]"
     ]
    },
    {
     "name": "stdout",
     "output_type": "stream",
     "text": [
      "epoch : 4, train_loss : 0.40024061997731525, valid_loss : 0.9437336325645447\n"
     ]
    },
    {
     "name": "stderr",
     "output_type": "stream",
     "text": [
      " 50%|█████     | 5/10 [00:07<00:07,  1.46s/it]"
     ]
    },
    {
     "name": "stdout",
     "output_type": "stream",
     "text": [
      "epoch : 5, train_loss : 0.39519686500231427, valid_loss : 0.9976145029067993\n"
     ]
    },
    {
     "name": "stderr",
     "output_type": "stream",
     "text": [
      " 60%|██████    | 6/10 [00:09<00:05,  1.42s/it]"
     ]
    },
    {
     "name": "stdout",
     "output_type": "stream",
     "text": [
      "epoch : 6, train_loss : 0.3921799858411153, valid_loss : 0.9876083135604858\n"
     ]
    },
    {
     "name": "stderr",
     "output_type": "stream",
     "text": [
      " 70%|███████   | 7/10 [00:10<00:03,  1.33s/it]"
     ]
    },
    {
     "name": "stdout",
     "output_type": "stream",
     "text": [
      "epoch : 7, train_loss : 0.3904853065808614, valid_loss : 0.9688310623168945\n"
     ]
    },
    {
     "name": "stderr",
     "output_type": "stream",
     "text": [
      " 80%|████████  | 8/10 [00:11<00:02,  1.30s/it]"
     ]
    },
    {
     "name": "stdout",
     "output_type": "stream",
     "text": [
      "Epoch 00008: reducing learning rate of group 0 to 2.5000e-02.\n",
      "epoch : 8, train_loss : 0.38819823662439984, valid_loss : 0.9752747416496277\n"
     ]
    },
    {
     "name": "stderr",
     "output_type": "stream",
     "text": [
      " 90%|█████████ | 9/10 [00:12<00:01,  1.30s/it]"
     ]
    },
    {
     "name": "stdout",
     "output_type": "stream",
     "text": [
      "epoch : 9, train_loss : 0.38731799523035687, valid_loss : 0.9636232852935791\n"
     ]
    },
    {
     "name": "stderr",
     "output_type": "stream",
     "text": [
      "100%|██████████| 10/10 [00:14<00:00,  1.41s/it]"
     ]
    },
    {
     "name": "stdout",
     "output_type": "stream",
     "text": [
      "epoch : 10, train_loss : 0.3862740099430084, valid_loss : 0.9552053213119507\n"
     ]
    },
    {
     "name": "stderr",
     "output_type": "stream",
     "text": [
      "\n"
     ]
    }
   ],
   "source": [
    "# data loader\n",
    "train_loader = DataLoader(train_dataset, batch_size=64, shuffle=False, num_workers=0)\n",
    "valid_loader = DataLoader(valid_dataset, batch_size=64, shuffle=False, num_workers=0)\n",
    "\n",
    "# train\n",
    "best_model, train_loss_arr, valid_loss_arr = trainer(\n",
    "    config=config, model=model, train_loader=train_loader, valid_loader=valid_loader\n",
    ")"
   ]
  },
  {
   "cell_type": "code",
   "execution_count": 8,
   "metadata": {},
   "outputs": [
    {
     "data": {
      "image/png": "[encoded data removed]",
      "text/plain": [
       "<Figure size 640x480 with 1 Axes>"
      ]
     },
     "metadata": {},
     "output_type": "display_data"
    },
    {
     "data": {
      "image/png": "[encoded data removed]",
      "text/plain": [
       "<Figure size 640x480 with 1 Axes>"
      ]
     },
     "metadata": {},
     "output_type": "display_data"
    }
   ],
   "source": [
    "plt.title(\"Train Loss\")\n",
    "plt.plot(train_loss_arr)\n",
    "plt.show()\n",
    "\n",
    "plt.title(\"Validation Loss\")\n",
    "plt.plot(valid_loss_arr)\n",
    "plt.show()"
   ]
  },
  {
   "cell_type": "code",
   "execution_count": null,
   "metadata": {},
   "outputs": [],
   "source": []
  },
  {
   "cell_type": "markdown",
   "metadata": {},
   "source": [
    "# ANOMALY SCORE"
   ]
  },
  {
   "cell_type": "code",
   "execution_count": 9,
   "metadata": {},
   "outputs": [],
   "source": [
    "threshold_normal_loader = DataLoader(\n",
    "    threshold_normal_dataset, batch_size=64, shuffle=False, num_workers=0\n",
    ")"
   ]
  },
  {
   "cell_type": "code",
   "execution_count": 16,
   "metadata": {},
   "outputs": [
    {
     "name": "stderr",
     "output_type": "stream",
     "text": [
      "/Users/kimtaejong/anaconda3/envs/base311/lib/python3.11/site-packages/torch/nn/_reduction.py:42: UserWarning: size_average and reduce args will be deprecated, please use reduction='none' instead.\n",
      "  warnings.warn(warning.format(ret))\n",
      "1it [00:00,  7.62it/s]\n",
      "100%|██████████| 256/256 [00:00<00:00, 40655.10it/s]"
     ]
    },
    {
     "name": "stdout",
     "output_type": "stream",
     "text": [
      "정상구간에서 비정상 점수 분포\n",
      "평균[0.008890953335334304], 중간[0.005415701303390049], 최소[0.00015141544990292266], 최대[0.05381986607703902]\n"
     ]
    },
    {
     "name": "stderr",
     "output_type": "stream",
     "text": [
      "\n"
     ]
    }
   ],
   "source": [
    "reconstrcution_error = get_reconstrcution_error(\n",
    "    config, best_model, threshold_normal_loader\n",
    ")\n",
    "\n",
    "mean = reconstrcution_error.mean(axis=0)\n",
    "sigma = np.cov(reconstrcution_error.T)\n",
    "\n",
    "#\n",
    "anomaly_calculator = Anomaly_Calculator(mean=mean, sigma=sigma)\n",
    "score = anomaly_calculator(reconstrcution_error)\n",
    "\n",
    "threshold_anomaly_scores = []\n",
    "\n",
    "for temp_loss in tqdm(reconstrcution_error):\n",
    "    threshold_anomaly_scores.append(anomaly_calculator(temp_loss))\n",
    "\n",
    "# 정상구간에서 비정상 점수 분포\n",
    "print(\"정상구간에서 비정상 점수 분포\")\n",
    "print(\n",
    "    \"평균[{}], 중간[{}], 최소[{}], 최대[{}]\".format(\n",
    "        np.mean(threshold_anomaly_scores),\n",
    "        np.median(threshold_anomaly_scores),\n",
    "        np.min(threshold_anomaly_scores),\n",
    "        np.max(threshold_anomaly_scores),\n",
    "    )\n",
    ")"
   ]
  },
  {
   "cell_type": "code",
   "execution_count": 20,
   "metadata": {},
   "outputs": [],
   "source": [
    "threshold = 0.0089"
   ]
  },
  {
   "cell_type": "code",
   "execution_count": 19,
   "metadata": {},
   "outputs": [],
   "source": [
    "# abnormal data\n",
    "threshold_abnormal_loader = DataLoader(\n",
    "    threshold_abnormal_dataset, batch_size=64, shuffle=False, num_workers=0\n",
    ")"
   ]
  },
  {
   "cell_type": "code",
   "execution_count": null,
   "metadata": {},
   "outputs": [],
   "source": [
    "reconstrcution_error = get_reconstrcution_error(\n",
    "    config, best_model, threshold_abnormal_loader\n",
    ")\n",
    "\n",
    "mean = reconstrcution_error.mean(axis=0)\n",
    "sigma = np.cov(reconstrcution_error.T)\n",
    "\n",
    "#\n",
    "anomaly_calculator = Anomaly_Calculator(mean=mean, sigma=sigma)\n",
    "score = anomaly_calculator(reconstrcution_error)\n",
    "\n",
    "threshold_anomaly_scores = []\n",
    "\n",
    "for temp_loss in tqdm(reconstrcution_error):\n",
    "    threshold_anomaly_scores.append(anomaly_calculator(temp_loss))\n",
    "\n",
    "# 정상구간에서 비정상 점수 분포\n",
    "print(\"정상구간에서 비정상 점수 분포\")\n",
    "print(\n",
    "    \"평균[{}], 중간[{}], 최소[{}], 최대[{}]\".format(\n",
    "        np.mean(threshold_anomaly_scores),\n",
    "        np.median(threshold_anomaly_scores),\n",
    "        np.min(threshold_anomaly_scores),\n",
    "        np.max(threshold_anomaly_scores),\n",
    "    )\n",
    ")"
   ]
  }
 ],
 "metadata": {
  "kernelspec": {
   "display_name": "base311",
   "language": "python",
   "name": "python3"
  },
  "language_info": {
   "codemirror_mode": {
    "name": "ipython",
    "version": 3
   },
   "file_extension": ".py",
   "mimetype": "text/x-python",
   "name": "python",
   "nbconvert_exporter": "python",
   "pygments_lexer": "ipython3",
   "version": "3.11.5"
  }
 },
 "nbformat": 4,
 "nbformat_minor": 2
}
